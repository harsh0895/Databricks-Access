{
 "cells": [
  {
   "cell_type": "code",
   "execution_count": 0,
   "metadata": {
    "application/vnd.databricks.v1+cell": {
     "cellMetadata": {},
     "inputWidgets": {},
     "nuid": "470e2064-371c-4ae2-9348-2cbbbecc7d60",
     "showTitle": false,
     "tableResultSettingsMap": {},
     "title": ""
    }
   },
   "outputs": [],
   "source": [
    "create table orders (\n",
    "  order_id INT,\n",
    "  order_date DATE,\n",
    "  customer_id INT,\n",
    "  order_status STRING\n",
    ");\n",
    "\n",
    "insert into orders \n",
    "values\n",
    "(1, '2020-01-01', 1, 'completed'),\n",
    "(2, '2020-01-02', 2, 'completed'),\n",
    "(3, '2020-01-03', 3, 'pending'),\n",
    "(4, '2020-01-04', 4, 'cancelled'),\n",
    "(5, '2020-01-05', 5, 'completed');\n",
    "\n",
    "select * from orders;\n",
    "\n",
    "insert into orders \n",
    "values\n",
    "(6, '2020-01-06', 6, 'completed'),\n",
    "(7, '2020-01-07', 7, 'pending');\n"
   ]
  }
 ],
 "metadata": {
  "application/vnd.databricks.v1+notebook": {
   "computePreferences": null,
   "dashboards": [],
   "environmentMetadata": null,
   "inputWidgetPreferences": null,
   "language": "sql",
   "notebookMetadata": {
    "sqlQueryOptions": {
     "applyAutoLimit": true,
     "catalog": "dltharsh",
     "schema": "source"
    }
   },
   "notebookName": "source_orders.dbquery.ipynb",
   "widgets": {}
  },
  "language_info": {
   "name": "sql"
  }
 },
 "nbformat": 4,
 "nbformat_minor": 0
}
